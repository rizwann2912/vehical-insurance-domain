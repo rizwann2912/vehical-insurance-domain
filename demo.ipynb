{
 "cells": [
  {
   "cell_type": "code",
   "execution_count": 1,
   "id": "5bb8b64a",
   "metadata": {},
   "outputs": [],
   "source": [
    "import boto3"
   ]
  },
  {
   "cell_type": "code",
   "execution_count": 2,
   "id": "26877fb0",
   "metadata": {},
   "outputs": [],
   "source": [
    "s3_client = boto3.client('s3')\n",
    "s3_resource = boto3.resource('s3')\n"
   ]
  },
  {
   "cell_type": "code",
   "execution_count": 3,
   "id": "90e7c69f",
   "metadata": {},
   "outputs": [],
   "source": [
    "import uuid\n",
    "def create_bucket_name(bucket_prefix):\n",
    "    # The generated bucket name must be between 3 and 63 chars long\n",
    "    return ''.join([bucket_prefix, str(uuid.uuid4())])\n",
    "\n",
    "\n",
    "def create_bucket(bucket_prefix, s3_connection):\n",
    "    session = boto3.session.Session()\n",
    "    current_region = session.region_name\n",
    "    bucket_name = create_bucket_name(bucket_prefix)\n",
    "    bucket_response = s3_connection.create_bucket(\n",
    "        Bucket=bucket_name,\n",
    "        CreateBucketConfiguration={\n",
    "        'LocationConstraint': current_region})\n",
    "    print(bucket_name, current_region)\n",
    "    return bucket_name, bucket_response"
   ]
  },
  {
   "cell_type": "code",
   "execution_count": 5,
   "id": "11808d2d",
   "metadata": {},
   "outputs": [
    {
     "name": "stdout",
     "output_type": "stream",
     "text": [
      "firstpythonbucketeb6012a6-5d8c-4628-961b-260033c3df1f eu-north-1\n"
     ]
    },
    {
     "data": {
      "text/plain": [
       "{'ResponseMetadata': {'RequestId': '9M896ZET88B23094',\n",
       "  'HostId': '2JhnNzDSVqnnuFWwc1/AxwK47kW7o+SMDUYSTfBIDChE0Pgne42TdtTGKaT46yk/s9ozVN4tENFh7LY5sdMl0Pc5cuRTfJ4h',\n",
       "  'HTTPStatusCode': 200,\n",
       "  'HTTPHeaders': {'x-amz-id-2': '2JhnNzDSVqnnuFWwc1/AxwK47kW7o+SMDUYSTfBIDChE0Pgne42TdtTGKaT46yk/s9ozVN4tENFh7LY5sdMl0Pc5cuRTfJ4h',\n",
       "   'x-amz-request-id': '9M896ZET88B23094',\n",
       "   'date': 'Thu, 26 Jun 2025 15:29:26 GMT',\n",
       "   'location': 'http://firstpythonbucketeb6012a6-5d8c-4628-961b-260033c3df1f.s3.amazonaws.com/',\n",
       "   'content-length': '0',\n",
       "   'server': 'AmazonS3'},\n",
       "  'RetryAttempts': 0},\n",
       " 'Location': 'http://firstpythonbucketeb6012a6-5d8c-4628-961b-260033c3df1f.s3.amazonaws.com/'}"
      ]
     },
     "execution_count": 5,
     "metadata": {},
     "output_type": "execute_result"
    }
   ],
   "source": [
    "first_bucket_name,first_response = create_bucket(\n",
    "    bucket_prefix='firstpythonbucket',\n",
    "    s3_connection= s3_resource.meta.client\n",
    ")\n",
    "first_response"
   ]
  },
  {
   "cell_type": "code",
   "execution_count": null,
   "id": "e1145079",
   "metadata": {},
   "outputs": [
    {
     "name": "stdout",
     "output_type": "stream",
     "text": [
      "secondpythonbucket662c6440-9c93-4365-85fd-fd7c67635fa1 eu-north-1\n"
     ]
    },
    {
     "data": {
      "text/plain": [
       "s3.Bucket(name='secondpythonbucket662c6440-9c93-4365-85fd-fd7c67635fa1')"
      ]
     },
     "execution_count": 6,
     "metadata": {},
     "output_type": "execute_result"
    }
   ],
   "source": [
    "second_bucket_name, second_response = create_bucket(\n",
    "    bucket_prefix='secondpythonbucket', s3_connection=s3_resource)\n",
    "second_response\n"
   ]
  },
  {
   "cell_type": "code",
   "execution_count": 7,
   "id": "08989096",
   "metadata": {},
   "outputs": [],
   "source": [
    "def create_temp_file(size, file_name, file_content):\n",
    "    random_file_name = ''.join([str(uuid.uuid4().hex[:6]), file_name])\n",
    "    with open(random_file_name, 'w') as f:\n",
    "        f.write(str(file_content) * size)\n",
    "    return random_file_name"
   ]
  },
  {
   "cell_type": "code",
   "execution_count": null,
   "id": "53eff482",
   "metadata": {},
   "outputs": [],
   "source": [
    "first_file_name = create_temp_file(300, 'firstfile.txt', 'file ka data')"
   ]
  },
  {
   "cell_type": "code",
   "execution_count": 9,
   "id": "ac1a7a5a",
   "metadata": {},
   "outputs": [
    {
     "data": {
      "text/plain": [
       "'9baf3efirstfile.txt'"
      ]
     },
     "execution_count": 9,
     "metadata": {},
     "output_type": "execute_result"
    }
   ],
   "source": [
    "first_file_name"
   ]
  },
  {
   "cell_type": "code",
   "execution_count": 11,
   "id": "b5d197d3",
   "metadata": {},
   "outputs": [],
   "source": [
    "first_bucket = s3_resource.Bucket(name=first_bucket_name)"
   ]
  },
  {
   "cell_type": "code",
   "execution_count": 13,
   "id": "57240066",
   "metadata": {},
   "outputs": [],
   "source": [
    "first_object = s3_resource.Object(\n",
    "    bucket_name = first_bucket_name,key = first_file_name\n",
    ")"
   ]
  },
  {
   "cell_type": "code",
   "execution_count": 14,
   "id": "508a6186",
   "metadata": {},
   "outputs": [],
   "source": [
    "first_object_again = first_bucket.Object(first_file_name)"
   ]
  },
  {
   "cell_type": "code",
   "execution_count": 15,
   "id": "def75f1a",
   "metadata": {},
   "outputs": [],
   "source": [
    "first_bucket_again = first_object.Bucket()"
   ]
  },
  {
   "cell_type": "code",
   "execution_count": 17,
   "id": "557b4ab6",
   "metadata": {},
   "outputs": [],
   "source": [
    "s3_resource.Object(first_bucket_name,first_file_name).upload_file(Filename=first_file_name)"
   ]
  },
  {
   "cell_type": "code",
   "execution_count": 18,
   "id": "a82b3579",
   "metadata": {},
   "outputs": [],
   "source": [
    "first_object.upload_file(first_file_name)"
   ]
  },
  {
   "cell_type": "code",
   "execution_count": 19,
   "id": "cfd9bea9",
   "metadata": {},
   "outputs": [],
   "source": [
    "s3_resource.meta.client.upload_file(Filename=first_file_name,Bucket=first_bucket_name,Key=first_file_name)"
   ]
  },
  {
   "cell_type": "code",
   "execution_count": null,
   "id": "424bb97f",
   "metadata": {},
   "outputs": [],
   "source": []
  }
 ],
 "metadata": {
  "kernelspec": {
   "display_name": "venv",
   "language": "python",
   "name": "python3"
  },
  "language_info": {
   "codemirror_mode": {
    "name": "ipython",
    "version": 3
   },
   "file_extension": ".py",
   "mimetype": "text/x-python",
   "name": "python",
   "nbconvert_exporter": "python",
   "pygments_lexer": "ipython3",
   "version": "3.12.0"
  }
 },
 "nbformat": 4,
 "nbformat_minor": 5
}
